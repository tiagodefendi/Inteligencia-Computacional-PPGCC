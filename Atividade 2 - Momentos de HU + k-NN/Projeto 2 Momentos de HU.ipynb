{
  "nbformat": 4,
  "nbformat_minor": 0,
  "metadata": {
    "colab": {
      "provenance": []
    },
    "kernelspec": {
      "name": "python3",
      "display_name": "Python 3"
    },
    "language_info": {
      "name": "python"
    }
  },
  "cells": [
    {
      "cell_type": "markdown",
      "source": [
        "# Momentos de HU - Base Four Shape\n",
        "\n",
        "\n",
        "## Objetivo Geral:\n",
        "Utilizando os códigos Matlab/Octave juntamente com a base de formas, mostre a acurácia para a tarefa. Utilize 60% para treinamento e 40% para teste. Selecione as 600 primeiras imagens para treino e a restante para teste.\n",
        "\n",
        "\n",
        "## Objetivos Específicos:\n",
        "\n",
        "1. Utilizando os códigos de Momentos Invariantes de HU ([código de exemplo](https://drive.matlab.com/sharing/03e51873-545c-4e56-8e5e-e52deb71bf79)). Existe outros códigos em Python, C, e outros\n",
        "2. Utilize a base four shapes ([Base de Dados](https://www.dropbox.com/scl/fi/j23s8ck7brc1107b6jx3w/fourShapes_2.tar.gz?rlkey=hkvy84zqqukgmf833ae9i4x6a&dl=0));\n",
        "3. Utilize o k-NN como classificador (neste momento só vamos usar o Classificador k-NN) - Pode usar pronto do Matlab ou do Scikit-learn.\n",
        "4. Avalie com diferentes parâmetros (número de zonas horizontais e verticais) para os momentos invariantes de HU e apresente o melhor resultado.\n"
      ],
      "metadata": {
        "id": "2nG62keJ1U96"
      }
    },
    {
      "cell_type": "code",
      "execution_count": 1,
      "metadata": {
        "id": "PFAqOOcTTHek"
      },
      "outputs": [],
      "source": [
        "!tar -xzf ./fourShapes_2.tar.gz"
      ]
    },
    {
      "cell_type": "code",
      "source": [
        "# Configurando o Ambiente\n",
        "import glob\n",
        "\n",
        "TRAINING_FILES = 600 # Quantidade de arquivos para treinamento\n",
        "\n",
        "# Lista com o caminho das pastas\n",
        "circlePath = \"./1_circle/\"\n",
        "squarePath = \"./2_square/\"\n",
        "starPath = \"./3_star/\"\n",
        "trianglePath = \"./4_triangle/\""
      ],
      "metadata": {
        "id": "D9hlwI1jJvqR"
      },
      "execution_count": 11,
      "outputs": []
    },
    {
      "cell_type": "code",
      "source": [
        "# Função para listar os arquivos e separar os pirmeiros TRAINING_FILES como treino\n",
        "def spread_training_test(folder_path):\n",
        "  files = glob.glob(f\"{folder_path}*.png\")\n",
        "  return (files[:TRAINING_FILES], files[TRAINING_FILES:])\n",
        "\n",
        "# Separando arquivo de treino e de teste\n",
        "circleTraingFilesList, circleTestFilesList = spread_training_test(circlePath)\n",
        "squareTraingFilesList, squareTestFilesList = spread_training_test(squarePath)\n",
        "starTraingFilesList, starTestFilesList = spread_training_test(starPath)\n",
        "triangleTraingFilesList, triangleTestFilesList = spread_training_test(trianglePath)"
      ],
      "metadata": {
        "id": "OpnzMc8yJwWc"
      },
      "execution_count": 15,
      "outputs": []
    },
    {
      "cell_type": "code",
      "source": [
        "from PIL import Image\n",
        "import numpy as np\n",
        "\n",
        "# Função para abrir os arquivos como double e normalizar a imagem preto e branca\n",
        "def open_files(file_list):\n",
        "  np_array_list = []\n",
        "  for file in file_list:\n",
        "    img = Image.open(file)\n",
        "    img_array = np.array(img, dtype=np.float64) / 255.0\n",
        "    np_array_list.append(img_array)\n",
        "  return np.array(np_array_list)\n",
        "\n",
        "# Abrindo arquivos de treino\n",
        "X_train_circle = open_files(circleTraingFilesList)\n",
        "X_train_square = open_files(squareTraingFilesList)\n",
        "X_train_star = open_files(starTraingFilesList)\n",
        "X_train_triangle = open_files(triangleTraingFilesList)\n",
        "\n",
        "# Abrindo arquivos de teste\n",
        "X_test_circle = open_files(circleTestFilesList)\n",
        "X_test_square = open_files(squareTestFilesList)\n",
        "X_test_star = open_files(starTestFilesList)\n",
        "X_test_triangle = open_files(triangleTestFilesList)"
      ],
      "metadata": {
        "id": "Mj69uYfirRbn"
      },
      "execution_count": 19,
      "outputs": []
    },
    {
      "cell_type": "code",
      "source": [
        "# Juntar todos os treinos\n",
        "X_train = np.concatenate([X_train_circle, X_train_square, X_train_star, X_train_triangle], axis=0)\n",
        "X_test  = np.concatenate([X_test_circle, X_test_square, X_test_star, X_test_triangle], axis=0)\n",
        "\n",
        "# Criar os rótulos (0=circle, 1=square, 2=star, 3=triangle)\n",
        "y_train = np.concatenate([\n",
        "    np.zeros(len(X_train_circle)),\n",
        "    np.ones(len(X_train_square)),\n",
        "    2*np.ones(len(X_train_star)),\n",
        "    3*np.ones(len(X_train_triangle))\n",
        "], axis=0)\n",
        "\n",
        "y_test = np.concatenate([\n",
        "    np.zeros(len(X_test_circle)),\n",
        "    np.ones(len(X_test_square)),\n",
        "    2*np.ones(len(X_test_star)),\n",
        "    3*np.ones(len(X_test_triangle))\n",
        "], axis=0)"
      ],
      "metadata": {
        "id": "dtlRWo0HuRN9"
      },
      "execution_count": 22,
      "outputs": []
    },
    {
      "cell_type": "code",
      "source": [
        "from skimage.measure import moments_hu, moments\n",
        "\n",
        "# Função para calcular momentos de Hu de todas as imagens\n",
        "def extract_hu_features(images):\n",
        "    features = []\n",
        "    for img in images:\n",
        "        m = moments(img)\n",
        "        hu = moments_hu(m)\n",
        "        features.append(hu)\n",
        "    return np.array(features)\n",
        "\n",
        "# Extrair features\n",
        "X_train_features = extract_hu_features(X_train)\n",
        "X_test_features  = extract_hu_features(X_test)"
      ],
      "metadata": {
        "colab": {
          "base_uri": "https://localhost:8080/"
        },
        "id": "QH1GOKq1vMze",
        "outputId": "21fa77ef-50a8-4b06-8c03-0f0df86e6b36"
      },
      "execution_count": 23,
      "outputs": [
        {
          "output_type": "stream",
          "name": "stdout",
          "text": [
            "X_train_features shape: (2400, 7)\n"
          ]
        }
      ]
    },
    {
      "cell_type": "code",
      "source": [
        "from sklearn.neighbors import KNeighborsClassifier\n",
        "from sklearn.metrics import accuracy_score\n",
        "\n",
        "# Cria o classificador\n",
        "knn = KNeighborsClassifier(n_neighbors=1)\n",
        "# Resultados:\n",
        "# Padrão (distância euclidiana), 1 vizinho me permitiu 0.764375 e 3 0.7775\n",
        "# Manhattan, 1 vizinho me deu 76125 e 3 0.775\n",
        "\n",
        "# Treina\n",
        "knn.fit(X_train_features, y_train)\n",
        "\n",
        "# Prediz\n",
        "y_pred = knn.predict(X_test_features)\n",
        "\n",
        "# Avalia\n",
        "acc = accuracy_score(y_test, y_pred)\n",
        "print(\"Acurácia do k-NN:\", acc)"
      ],
      "metadata": {
        "colab": {
          "base_uri": "https://localhost:8080/"
        },
        "id": "LC77_X88wuYd",
        "outputId": "56e27f28-62ed-4837-8393-3bb74afc5e39"
      },
      "execution_count": 45,
      "outputs": [
        {
          "output_type": "stream",
          "name": "stdout",
          "text": [
            "Acurácia do k-NN: 0.764375\n"
          ]
        }
      ]
    },
    {
      "cell_type": "code",
      "source": [
        "# Funções de Hu Moments para calcular por zonas\n",
        "\n",
        "# Função para dividir a imagem em zonas\n",
        "def split_image(img, nx, ny):\n",
        "    h, w = img.shape\n",
        "    zones = []\n",
        "    h_step = h // ny\n",
        "    w_step = w // nx\n",
        "    for i in range(ny):\n",
        "        for j in range(nx):\n",
        "            zone = img[i*h_step:(i+1)*h_step, j*w_step:(j+1)*w_step]\n",
        "            zones.append(zone)\n",
        "    return zones\n",
        "\n",
        "# Função para calcular os momentos de hu em cada zona\n",
        "def hu_features_zones(img, nx=2, ny=2):\n",
        "    zones = split_image(img, nx, ny)\n",
        "    features = []\n",
        "    for z in zones:\n",
        "        m = moments(z)\n",
        "        hu = moments_hu(m)\n",
        "        features.extend(hu)\n",
        "    return np.array(features)\n",
        "\n",
        "# Função para calcular os momentos de hu par auma lista de imagens\n",
        "def extract_features_all(images, nx=2, ny=2):\n",
        "    all_features = []\n",
        "    for img in images:\n",
        "        feat = hu_features_zones(img, nx, ny)\n",
        "        all_features.append(feat)\n",
        "    return np.array(all_features)"
      ],
      "metadata": {
        "id": "mzS7TbzZw6EM"
      },
      "execution_count": 57,
      "outputs": []
    },
    {
      "cell_type": "code",
      "source": [
        "# Classificação com k-NN usando diferentes parâmetros\n",
        "# (número de zonas horizontais e verticais) para os momentos invariantes de HU\n",
        "\n",
        "best_acc = 0\n",
        "best_params = (1,1)\n",
        "\n",
        "for nx in range(1, 5):\n",
        "    for ny in range(1, 5):\n",
        "        # Extrai features\n",
        "        X_train_f = extract_features_all(X_train, nx, ny)\n",
        "        X_test_f  = extract_features_all(X_test, nx, ny)\n",
        "\n",
        "        # Treina k-NN\n",
        "        knn = KNeighborsClassifier(n_neighbors=3)\n",
        "        knn.fit(X_train_f, y_train)\n",
        "        y_pred = knn.predict(X_test_f)\n",
        "\n",
        "        # Avalia\n",
        "        acc = accuracy_score(y_test, y_pred)\n",
        "        print(f\"Acurácia {nx}x{ny} zonas: {acc:.4f}\")\n",
        "\n",
        "        # Guarda melhor resultado\n",
        "        if acc > best_acc:\n",
        "            best_acc = acc\n",
        "            best_params = (nx, ny)\n",
        "\n",
        "print(f\"\\nMelhor acurácia: {best_acc:.4f} com {best_params[0]}x{best_params[1]} zonas\")"
      ],
      "metadata": {
        "colab": {
          "base_uri": "https://localhost:8080/"
        },
        "id": "P3pNqkme0YJ1",
        "outputId": "6667980a-b244-4721-a202-8e9495044ce3"
      },
      "execution_count": 64,
      "outputs": [
        {
          "output_type": "stream",
          "name": "stdout",
          "text": [
            "Acurácia 1x1 zonas: 0.7775\n",
            "Acurácia 1x2 zonas: 0.8506\n",
            "Acurácia 1x3 zonas: 0.9081\n",
            "Acurácia 1x4 zonas: 0.9581\n",
            "Acurácia 2x1 zonas: 0.8606\n",
            "Acurácia 2x2 zonas: 0.9762\n",
            "Acurácia 2x3 zonas: 0.9831\n",
            "Acurácia 2x4 zonas: 0.9925\n",
            "Acurácia 3x1 zonas: 0.9081\n",
            "Acurácia 3x2 zonas: 0.9825\n",
            "Acurácia 3x3 zonas: 0.9950\n",
            "Acurácia 3x4 zonas: 0.9938\n",
            "Acurácia 4x1 zonas: 0.9550\n",
            "Acurácia 4x2 zonas: 0.9919\n",
            "Acurácia 4x3 zonas: 0.9938\n",
            "Acurácia 4x4 zonas: 0.9931\n",
            "\n",
            "Melhor acurácia: 0.9950 com 3x3 zonas\n"
          ]
        }
      ]
    },
    {
      "cell_type": "code",
      "source": [],
      "metadata": {
        "id": "8exYiIh10lFE"
      },
      "execution_count": 62,
      "outputs": []
    }
  ]
}